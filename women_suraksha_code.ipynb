{
  "cells": [
    {
      "cell_type": "markdown",
      "metadata": {
        "id": "Nwra6VDJa6Eo"
      },
      "source": [
        "Import Modules"
      ]
    },
    {
      "cell_type": "code",
      "execution_count": null,
      "metadata": {
        "id": "1HbKqrGnbISK"
      },
      "outputs": [],
      "source": [
        "import pandas as pd\n",
        "import numpy as np\n",
        "import seaborn as sns\n",
        "from matplotlib import pyplot as plt\n",
        "import matplotlib\n",
        "import io\n",
        "from google.colab import files\n",
        "from sklearn.model_selection import cross_val_score"
      ]
    },
    {
      "cell_type": "markdown",
      "metadata": {
        "id": "w2yaQ3TsbRGd"
      },
      "source": [
        "Loading a dataset"
      ]
    },
    {
      "cell_type": "code",
      "execution_count": null,
      "metadata": {
        "colab": {
          "base_uri": "https://localhost:8080/",
          "height": 75
        },
        "id": "hYTrw9yPZSWy",
        "outputId": "ac6964c2-4345-4606-b6f9-f04481e1d299"
      },
      "outputs": [
        {
          "data": {
            "text/html": [
              "\n",
              "     <input type=\"file\" id=\"files-029de2b8-a15b-4cf4-b3ea-bdc0e5e3fce2\" name=\"files[]\" multiple disabled\n",
              "        style=\"border:none\" />\n",
              "     <output id=\"result-029de2b8-a15b-4cf4-b3ea-bdc0e5e3fce2\">\n",
              "      Upload widget is only available when the cell has been executed in the\n",
              "      current browser session. Please rerun this cell to enable.\n",
              "      </output>\n",
              "      <script>// Copyright 2017 Google LLC\n",
              "//\n",
              "// Licensed under the Apache License, Version 2.0 (the \"License\");\n",
              "// you may not use this file except in compliance with the License.\n",
              "// You may obtain a copy of the License at\n",
              "//\n",
              "//      http://www.apache.org/licenses/LICENSE-2.0\n",
              "//\n",
              "// Unless required by applicable law or agreed to in writing, software\n",
              "// distributed under the License is distributed on an \"AS IS\" BASIS,\n",
              "// WITHOUT WARRANTIES OR CONDITIONS OF ANY KIND, either express or implied.\n",
              "// See the License for the specific language governing permissions and\n",
              "// limitations under the License.\n",
              "\n",
              "/**\n",
              " * @fileoverview Helpers for google.colab Python module.\n",
              " */\n",
              "(function(scope) {\n",
              "function span(text, styleAttributes = {}) {\n",
              "  const element = document.createElement('span');\n",
              "  element.textContent = text;\n",
              "  for (const key of Object.keys(styleAttributes)) {\n",
              "    element.style[key] = styleAttributes[key];\n",
              "  }\n",
              "  return element;\n",
              "}\n",
              "\n",
              "// Max number of bytes which will be uploaded at a time.\n",
              "const MAX_PAYLOAD_SIZE = 100 * 1024;\n",
              "\n",
              "function _uploadFiles(inputId, outputId) {\n",
              "  const steps = uploadFilesStep(inputId, outputId);\n",
              "  const outputElement = document.getElementById(outputId);\n",
              "  // Cache steps on the outputElement to make it available for the next call\n",
              "  // to uploadFilesContinue from Python.\n",
              "  outputElement.steps = steps;\n",
              "\n",
              "  return _uploadFilesContinue(outputId);\n",
              "}\n",
              "\n",
              "// This is roughly an async generator (not supported in the browser yet),\n",
              "// where there are multiple asynchronous steps and the Python side is going\n",
              "// to poll for completion of each step.\n",
              "// This uses a Promise to block the python side on completion of each step,\n",
              "// then passes the result of the previous step as the input to the next step.\n",
              "function _uploadFilesContinue(outputId) {\n",
              "  const outputElement = document.getElementById(outputId);\n",
              "  const steps = outputElement.steps;\n",
              "\n",
              "  const next = steps.next(outputElement.lastPromiseValue);\n",
              "  return Promise.resolve(next.value.promise).then((value) => {\n",
              "    // Cache the last promise value to make it available to the next\n",
              "    // step of the generator.\n",
              "    outputElement.lastPromiseValue = value;\n",
              "    return next.value.response;\n",
              "  });\n",
              "}\n",
              "\n",
              "/**\n",
              " * Generator function which is called between each async step of the upload\n",
              " * process.\n",
              " * @param {string} inputId Element ID of the input file picker element.\n",
              " * @param {string} outputId Element ID of the output display.\n",
              " * @return {!Iterable<!Object>} Iterable of next steps.\n",
              " */\n",
              "function* uploadFilesStep(inputId, outputId) {\n",
              "  const inputElement = document.getElementById(inputId);\n",
              "  inputElement.disabled = false;\n",
              "\n",
              "  const outputElement = document.getElementById(outputId);\n",
              "  outputElement.innerHTML = '';\n",
              "\n",
              "  const pickedPromise = new Promise((resolve) => {\n",
              "    inputElement.addEventListener('change', (e) => {\n",
              "      resolve(e.target.files);\n",
              "    });\n",
              "  });\n",
              "\n",
              "  const cancel = document.createElement('button');\n",
              "  inputElement.parentElement.appendChild(cancel);\n",
              "  cancel.textContent = 'Cancel upload';\n",
              "  const cancelPromise = new Promise((resolve) => {\n",
              "    cancel.onclick = () => {\n",
              "      resolve(null);\n",
              "    };\n",
              "  });\n",
              "\n",
              "  // Wait for the user to pick the files.\n",
              "  const files = yield {\n",
              "    promise: Promise.race([pickedPromise, cancelPromise]),\n",
              "    response: {\n",
              "      action: 'starting',\n",
              "    }\n",
              "  };\n",
              "\n",
              "  cancel.remove();\n",
              "\n",
              "  // Disable the input element since further picks are not allowed.\n",
              "  inputElement.disabled = true;\n",
              "\n",
              "  if (!files) {\n",
              "    return {\n",
              "      response: {\n",
              "        action: 'complete',\n",
              "      }\n",
              "    };\n",
              "  }\n",
              "\n",
              "  for (const file of files) {\n",
              "    const li = document.createElement('li');\n",
              "    li.append(span(file.name, {fontWeight: 'bold'}));\n",
              "    li.append(span(\n",
              "        `(${file.type || 'n/a'}) - ${file.size} bytes, ` +\n",
              "        `last modified: ${\n",
              "            file.lastModifiedDate ? file.lastModifiedDate.toLocaleDateString() :\n",
              "                                    'n/a'} - `));\n",
              "    const percent = span('0% done');\n",
              "    li.appendChild(percent);\n",
              "\n",
              "    outputElement.appendChild(li);\n",
              "\n",
              "    const fileDataPromise = new Promise((resolve) => {\n",
              "      const reader = new FileReader();\n",
              "      reader.onload = (e) => {\n",
              "        resolve(e.target.result);\n",
              "      };\n",
              "      reader.readAsArrayBuffer(file);\n",
              "    });\n",
              "    // Wait for the data to be ready.\n",
              "    let fileData = yield {\n",
              "      promise: fileDataPromise,\n",
              "      response: {\n",
              "        action: 'continue',\n",
              "      }\n",
              "    };\n",
              "\n",
              "    // Use a chunked sending to avoid message size limits. See b/62115660.\n",
              "    let position = 0;\n",
              "    do {\n",
              "      const length = Math.min(fileData.byteLength - position, MAX_PAYLOAD_SIZE);\n",
              "      const chunk = new Uint8Array(fileData, position, length);\n",
              "      position += length;\n",
              "\n",
              "      const base64 = btoa(String.fromCharCode.apply(null, chunk));\n",
              "      yield {\n",
              "        response: {\n",
              "          action: 'append',\n",
              "          file: file.name,\n",
              "          data: base64,\n",
              "        },\n",
              "      };\n",
              "\n",
              "      let percentDone = fileData.byteLength === 0 ?\n",
              "          100 :\n",
              "          Math.round((position / fileData.byteLength) * 100);\n",
              "      percent.textContent = `${percentDone}% done`;\n",
              "\n",
              "    } while (position < fileData.byteLength);\n",
              "  }\n",
              "\n",
              "  // All done.\n",
              "  yield {\n",
              "    response: {\n",
              "      action: 'complete',\n",
              "    }\n",
              "  };\n",
              "}\n",
              "\n",
              "scope.google = scope.google || {};\n",
              "scope.google.colab = scope.google.colab || {};\n",
              "scope.google.colab._files = {\n",
              "  _uploadFiles,\n",
              "  _uploadFilesContinue,\n",
              "};\n",
              "})(self);\n",
              "</script> "
            ],
            "text/plain": [
              "<IPython.core.display.HTML object>"
            ]
          },
          "metadata": {},
          "output_type": "display_data"
        },
        {
          "name": "stdout",
          "output_type": "stream",
          "text": [
            "Saving Sexual Harassment Data for Machine Learning Project (1).xlsx to Sexual Harassment Data for Machine Learning Project (1).xlsx\n"
          ]
        }
      ],
      "source": [
        "\n",
        "uploaded = files.upload()"
      ]
    },
    {
      "cell_type": "code",
      "execution_count": null,
      "metadata": {
        "id": "iVr0nbPUbQJZ"
      },
      "outputs": [],
      "source": [
        "\n",
        "df = pd.read_excel(io.BytesIO(uploaded['Sexual Harassment Data for Machine Learning Project (1).xlsx']))\n"
      ]
    },
    {
      "cell_type": "code",
      "execution_count": null,
      "metadata": {
        "colab": {
          "base_uri": "https://localhost:8080/"
        },
        "id": "1tbdGX-ubdFG",
        "outputId": "1eb2839b-6295-4bf3-aade-d7abaf00ee1f"
      },
      "outputs": [
        {
          "name": "stdout",
          "output_type": "stream",
          "text": [
            "              Area                 Zone       Time People.Frequency  \\\n",
            "0        Ramapuram       Aanandam Nagar    Morning           Medium   \n",
            "1        Ramapuram       Aanandam Nagar  Afternoon             High   \n",
            "2        Ramapuram       Aanandam Nagar    Evening           Medium   \n",
            "3        Ramapuram       Aanandam Nagar      Night              Low   \n",
            "4        Ramapuram          Ambal Nagar    Morning           Medium   \n",
            "..             ...                  ...        ...              ...   \n",
            "99       Ramapuram  Venkateshwara Nagar      Night              Low   \n",
            "100  West Mambalam     Vivekanandapuram    Morning             High   \n",
            "101  West Mambalam     Vivekanandapuram  Afternoon           Medium   \n",
            "102  West Mambalam     Vivekanandapuram    Evening             High   \n",
            "103  West Mambalam     Vivekanandapuram      Night              Low   \n",
            "\n",
            "    Is.Police_Station Is.Bar    Tier Residence.Level   Class  \n",
            "0                 Yes     No  Middle          Medium    Safe  \n",
            "1                 Yes     No  Middle          Medium    Safe  \n",
            "2                 Yes     No  Middle          Medium    Safe  \n",
            "3                 Yes     No  Middle          Medium    Safe  \n",
            "4                  No     No   Outer          Medium    Safe  \n",
            "..                ...    ...     ...             ...     ...  \n",
            "99                 No     No   Inner            High  Unsafe  \n",
            "100                No     No   Inner            High    Safe  \n",
            "101                No     No   Inner            High    Safe  \n",
            "102                No     No   Inner            High    Safe  \n",
            "103                No     No   Inner            High  Unsafe  \n",
            "\n",
            "[104 rows x 9 columns]\n"
          ]
        }
      ],
      "source": [
        "print(df)"
      ]
    },
    {
      "cell_type": "code",
      "execution_count": null,
      "metadata": {
        "colab": {
          "base_uri": "https://localhost:8080/"
        },
        "id": "YK4Ldp39VSGg",
        "outputId": "83262607-5433-4b50-ff9d-53aa9ee69e65"
      },
      "outputs": [
        {
          "name": "stdout",
          "output_type": "stream",
          "text": [
            "        Area            Zone       Time People.Frequency Is.Police_Station  \\\n",
            "0  Ramapuram  Aanandam Nagar    Morning           Medium               Yes   \n",
            "1  Ramapuram  Aanandam Nagar  Afternoon             High               Yes   \n",
            "2  Ramapuram  Aanandam Nagar    Evening           Medium               Yes   \n",
            "3  Ramapuram  Aanandam Nagar      Night              Low               Yes   \n",
            "4  Ramapuram     Ambal Nagar    Morning           Medium                No   \n",
            "\n",
            "  Is.Bar    Tier Residence.Level Class  \n",
            "0     No  Middle          Medium  Safe  \n",
            "1     No  Middle          Medium  Safe  \n",
            "2     No  Middle          Medium  Safe  \n",
            "3     No  Middle          Medium  Safe  \n",
            "4     No   Outer          Medium  Safe  \n"
          ]
        }
      ],
      "source": [
        "print(df.head(5))"
      ]
    },
    {
      "cell_type": "code",
      "execution_count": null,
      "metadata": {
        "colab": {
          "base_uri": "https://localhost:8080/"
        },
        "id": "Lwm0f1HabxDj",
        "outputId": "82dd702f-a92b-44b7-e829-0ed70f574efe"
      },
      "outputs": [
        {
          "name": "stdout",
          "output_type": "stream",
          "text": [
            "<class 'pandas.core.frame.DataFrame'>\n",
            "RangeIndex: 104 entries, 0 to 103\n",
            "Data columns (total 9 columns):\n",
            " #   Column             Non-Null Count  Dtype \n",
            "---  ------             --------------  ----- \n",
            " 0   Area               104 non-null    object\n",
            " 1   Zone               104 non-null    object\n",
            " 2   Time               104 non-null    object\n",
            " 3   People.Frequency   104 non-null    object\n",
            " 4   Is.Police_Station  104 non-null    object\n",
            " 5   Is.Bar             104 non-null    object\n",
            " 6   Tier               104 non-null    object\n",
            " 7   Residence.Level    104 non-null    object\n",
            " 8   Class              104 non-null    object\n",
            "dtypes: object(9)\n",
            "memory usage: 7.4+ KB\n"
          ]
        }
      ],
      "source": [
        "df.info()"
      ]
    },
    {
      "cell_type": "code",
      "execution_count": null,
      "metadata": {
        "colab": {
          "base_uri": "https://localhost:8080/"
        },
        "id": "-6QwoAXFT5Ee",
        "outputId": "fe8516d4-8747-4c80-eb71-318917a77eb4"
      },
      "outputs": [
        {
          "data": {
            "text/plain": [
              "Index(['Area', 'Zone', 'Time', 'People.Frequency', 'Is.Police_Station',\n",
              "       'Is.Bar', 'Tier', 'Residence.Level', 'Class'],\n",
              "      dtype='object')"
            ]
          },
          "execution_count": 7,
          "metadata": {},
          "output_type": "execute_result"
        }
      ],
      "source": [
        "df.columns"
      ]
    },
    {
      "cell_type": "markdown",
      "metadata": {
        "id": "5qg8wjRTb3d1"
      },
      "source": [
        "Pre processing the dataset"
      ]
    },
    {
      "cell_type": "code",
      "execution_count": null,
      "metadata": {
        "colab": {
          "base_uri": "https://localhost:8080/"
        },
        "id": "LbHFw0EYQ4vt",
        "outputId": "609d54da-2601-42d0-c94c-05bdc17c8ece"
      },
      "outputs": [
        {
          "data": {
            "text/plain": [
              "Area                 0\n",
              "Zone                 0\n",
              "Time                 0\n",
              "People.Frequency     0\n",
              "Is.Police_Station    0\n",
              "Is.Bar               0\n",
              "Tier                 0\n",
              "Residence.Level      0\n",
              "Class                0\n",
              "dtype: int64"
            ]
          },
          "execution_count": 8,
          "metadata": {},
          "output_type": "execute_result"
        }
      ],
      "source": [
        "df.isnull().sum()    #sum of the null values"
      ]
    },
    {
      "cell_type": "markdown",
      "metadata": {
        "id": "RA1dgTYccSrv"
      },
      "source": [
        "Exploratory Data Analysis"
      ]
    },
    {
      "cell_type": "code",
      "execution_count": null,
      "metadata": {
        "colab": {
          "base_uri": "https://localhost:8080/",
          "height": 300
        },
        "id": "VW7EU94cTuLC",
        "outputId": "94486cf3-4086-4b18-9d9c-4df894fe7878"
      },
      "outputs": [
        {
          "data": {
            "text/plain": [
              "<matplotlib.axes._subplots.AxesSubplot at 0x7efdbe44f1d0>"
            ]
          },
          "execution_count": 9,
          "metadata": {},
          "output_type": "execute_result"
        },
        {
          "data": {
            "image/png": "[encoded data removed]",
            "text/plain": [
              "<Figure size 432x288 with 1 Axes>"
            ]
          },
          "metadata": {},
          "output_type": "display_data"
        }
      ],
      "source": [
        "sns.countplot(x ='Tier', data = df)   # will plot total count of each category in a particular column"
      ]
    },
    {
      "cell_type": "code",
      "execution_count": null,
      "metadata": {
        "colab": {
          "base_uri": "https://localhost:8080/",
          "height": 297
        },
        "id": "eLtu_QwHVOZ9",
        "outputId": "395a8e91-138f-4d51-ae24-04900dbb5caa"
      },
      "outputs": [
        {
          "data": {
            "text/plain": [
              "<matplotlib.axes._subplots.AxesSubplot at 0x7efdbe3b89d0>"
            ]
          },
          "execution_count": 10,
          "metadata": {},
          "output_type": "execute_result"
        },
        {
          "data": {
            "image/png": "[encoded data removed]",
            "text/plain": [
              "<Figure size 432x288 with 1 Axes>"
            ]
          },
          "metadata": {},
          "output_type": "display_data"
        }
      ],
      "source": [
        "sns.countplot(x ='Area', data = df)"
      ]
    },
    {
      "cell_type": "code",
      "execution_count": null,
      "metadata": {
        "colab": {
          "base_uri": "https://localhost:8080/",
          "height": 297
        },
        "id": "iUxfhSIEVXqo",
        "outputId": "96c853dd-a97b-4d2e-ba96-7f0c87dd38b9"
      },
      "outputs": [
        {
          "data": {
            "text/plain": [
              "<matplotlib.axes._subplots.AxesSubplot at 0x7efdbded8f50>"
            ]
          },
          "execution_count": 11,
          "metadata": {},
          "output_type": "execute_result"
        },
        {
          "data": {
            "image/png": "[encoded data removed]",
            "text/plain": [
              "<Figure size 432x288 with 1 Axes>"
            ]
          },
          "metadata": {},
          "output_type": "display_data"
        }
      ],
      "source": [
        "sns.countplot(x ='Time', data = df)"
      ]
    },
    {
      "cell_type": "code",
      "execution_count": null,
      "metadata": {
        "colab": {
          "base_uri": "https://localhost:8080/",
          "height": 297
        },
        "id": "2qVj46vvVuBk",
        "outputId": "41eba4d3-8dda-490a-da43-931862108c4e"
      },
      "outputs": [
        {
          "data": {
            "text/plain": [
              "<matplotlib.axes._subplots.AxesSubplot at 0x7efdbdebc110>"
            ]
          },
          "execution_count": 12,
          "metadata": {},
          "output_type": "execute_result"
        },
        {
          "data": {
            "image/png": "[encoded data removed]",
            "text/plain": [
              "<Figure size 432x288 with 1 Axes>"
            ]
          },
          "metadata": {},
          "output_type": "display_data"
        }
      ],
      "source": [
        "sns.countplot(x ='People.Frequency', data = df)"
      ]
    },
    {
      "cell_type": "code",
      "execution_count": null,
      "metadata": {
        "colab": {
          "base_uri": "https://localhost:8080/",
          "height": 298
        },
        "id": "ERcxd-Y6aHxI",
        "outputId": "735cedfb-99e0-4dae-f037-392348c0492a"
      },
      "outputs": [
        {
          "data": {
            "text/plain": [
              "<matplotlib.axes._subplots.AxesSubplot at 0x7efdbde8db90>"
            ]
          },
          "execution_count": 13,
          "metadata": {},
          "output_type": "execute_result"
        },
        {
          "data": {
            "image/png": "[encoded data removed]",
            "text/plain": [
              "<Figure size 432x288 with 1 Axes>"
            ]
          },
          "metadata": {},
          "output_type": "display_data"
        }
      ],
      "source": [
        "sns.countplot(x ='Is.Police_Station', data = df)"
      ]
    },
    {
      "cell_type": "code",
      "execution_count": null,
      "metadata": {
        "colab": {
          "base_uri": "https://localhost:8080/",
          "height": 297
        },
        "id": "f__uuWzzadCu",
        "outputId": "07cb74a8-6cc6-48fe-ab97-4ab60b31dbc3"
      },
      "outputs": [
        {
          "data": {
            "text/plain": [
              "<matplotlib.axes._subplots.AxesSubplot at 0x7efdbde14b10>"
            ]
          },
          "execution_count": 14,
          "metadata": {},
          "output_type": "execute_result"
        },
        {
          "data": {
            "image/png": "[encoded data removed]",
            "text/plain": [
              "<Figure size 432x288 with 1 Axes>"
            ]
          },
          "metadata": {},
          "output_type": "display_data"
        }
      ],
      "source": [
        "sns.countplot(x ='Is.Bar', data = df)"
      ]
    },
    {
      "cell_type": "code",
      "execution_count": null,
      "metadata": {
        "id": "9zBDYTBOalx0"
      },
      "outputs": [],
      "source": [
        "sns.countplot(x ='Residence.Level', data = df)"
      ]
    },
    {
      "cell_type": "code",
      "execution_count": null,
      "metadata": {
        "id": "6nayvcBRavgd"
      },
      "outputs": [],
      "source": [
        "sns.countplot(x ='Class', data = df)"
      ]
    },
    {
      "cell_type": "markdown",
      "metadata": {
        "id": "q3eLQkQMc-lu"
      },
      "source": [
        "Encoding Categorical Features"
      ]
    },
    {
      "cell_type": "code",
      "execution_count": null,
      "metadata": {
        "colab": {
          "background_save": true
        },
        "id": "srD8shbyFujM"
      },
      "outputs": [],
      "source": [
        "Time = pd.get_dummies(df['Time'],drop_first = True)  "
      ]
    },
    {
      "cell_type": "code",
      "execution_count": null,
      "metadata": {
        "colab": {
          "background_save": true,
          "base_uri": "https://localhost:8080/"
        },
        "id": "_1L6-f7DH5HS",
        "outputId": "cfd88bbb-875f-49f9-97fb-7cf629485939"
      },
      "outputs": [
        {
          "name": "stdout",
          "output_type": "stream",
          "text": [
            "     Ramapuram  West Mambalam\n",
            "0            1              0\n",
            "1            1              0\n",
            "2            1              0\n",
            "3            1              0\n",
            "4            1              0\n",
            "..         ...            ...\n",
            "99           1              0\n",
            "100          0              1\n",
            "101          0              1\n",
            "102          0              1\n",
            "103          0              1\n",
            "\n",
            "[104 rows x 2 columns]\n"
          ]
        }
      ],
      "source": [
        "Area = pd.get_dummies(df['Area'],drop_first = True)\n",
        "print(Area)"
      ]
    },
    {
      "cell_type": "code",
      "execution_count": null,
      "metadata": {
        "colab": {
          "background_save": true,
          "base_uri": "https://localhost:8080/"
        },
        "id": "dZTmknVgIfZH",
        "outputId": "8c6f00eb-f634-41e5-c059-33c7b7da8d8a"
      },
      "outputs": [
        {
          "name": "stdout",
          "output_type": "stream",
          "text": [
            "     Low  Medium\n",
            "0      0       1\n",
            "1      0       0\n",
            "2      0       1\n",
            "3      1       0\n",
            "4      0       1\n",
            "..   ...     ...\n",
            "99     1       0\n",
            "100    0       0\n",
            "101    0       1\n",
            "102    0       0\n",
            "103    1       0\n",
            "\n",
            "[104 rows x 2 columns]\n"
          ]
        }
      ],
      "source": [
        "People = pd.get_dummies(df['People.Frequency'],drop_first = True)       # People.Frequency cannot be used as variable name because then it searches for a function named Frequency\n",
        "print(People)                                                           # for class name People"
      ]
    },
    {
      "cell_type": "code",
      "execution_count": null,
      "metadata": {
        "colab": {
          "background_save": true,
          "base_uri": "https://localhost:8080/"
        },
        "id": "-U-ojHDKJtnC",
        "outputId": "a091397e-23a5-4e6a-bb94-956313d9304d"
      },
      "outputs": [
        {
          "name": "stdout",
          "output_type": "stream",
          "text": [
            "     Yes\n",
            "0      1\n",
            "1      1\n",
            "2      1\n",
            "3      1\n",
            "4      0\n",
            "..   ...\n",
            "99     0\n",
            "100    0\n",
            "101    0\n",
            "102    0\n",
            "103    0\n",
            "\n",
            "[104 rows x 1 columns]\n"
          ]
        }
      ],
      "source": [
        "Is_Police_Station = pd.get_dummies(df['Is.Police_Station'],drop_first = True)      \n",
        "print(Is_Police_Station) "
      ]
    },
    {
      "cell_type": "code",
      "execution_count": null,
      "metadata": {
        "colab": {
          "background_save": true,
          "base_uri": "https://localhost:8080/"
        },
        "id": "_holK8coKhz1",
        "outputId": "a459ce38-a5fa-4a99-c848-56ece4f72f05"
      },
      "outputs": [
        {
          "name": "stdout",
          "output_type": "stream",
          "text": [
            "     Yes\n",
            "0      0\n",
            "1      0\n",
            "2      0\n",
            "3      0\n",
            "4      0\n",
            "..   ...\n",
            "99     0\n",
            "100    0\n",
            "101    0\n",
            "102    0\n",
            "103    0\n",
            "\n",
            "[104 rows x 1 columns]\n"
          ]
        }
      ],
      "source": [
        "Is_Bar = pd.get_dummies(df['Is.Bar'],drop_first = True)      \n",
        "print(Is_Bar)"
      ]
    },
    {
      "cell_type": "code",
      "execution_count": null,
      "metadata": {
        "colab": {
          "base_uri": "https://localhost:8080/"
        },
        "id": "sH0v3df-K0RS",
        "outputId": "e0e884a1-f3a8-4784-a2e0-1db24249945f"
      },
      "outputs": [
        {
          "name": "stdout",
          "output_type": "stream",
          "text": [
            "     Middle  Outer\n",
            "0         1      0\n",
            "1         1      0\n",
            "2         1      0\n",
            "3         1      0\n",
            "4         0      1\n",
            "..      ...    ...\n",
            "99        0      0\n",
            "100       0      0\n",
            "101       0      0\n",
            "102       0      0\n",
            "103       0      0\n",
            "\n",
            "[104 rows x 2 columns]\n"
          ]
        }
      ],
      "source": [
        "Tier = pd.get_dummies(df['Tier'],drop_first = True)      \n",
        "print(Tier)\n",
        "\n"
      ]
    },
    {
      "cell_type": "code",
      "execution_count": null,
      "metadata": {
        "colab": {
          "base_uri": "https://localhost:8080/"
        },
        "id": "i6TqUaX_LGM4",
        "outputId": "3ded3a80-d193-41b2-d41c-ad8cbd0d810c"
      },
      "outputs": [
        {
          "name": "stdout",
          "output_type": "stream",
          "text": [
            "     Low  Medium\n",
            "0      0       1\n",
            "1      0       1\n",
            "2      0       1\n",
            "3      0       1\n",
            "4      0       1\n",
            "..   ...     ...\n",
            "99     0       0\n",
            "100    0       0\n",
            "101    0       0\n",
            "102    0       0\n",
            "103    0       0\n",
            "\n",
            "[104 rows x 2 columns]\n"
          ]
        }
      ],
      "source": [
        "Residence_Level = pd.get_dummies(df['Residence.Level'],drop_first = True)      \n",
        "print(Residence_Level)"
      ]
    },
    {
      "cell_type": "code",
      "execution_count": null,
      "metadata": {
        "id": "O8YS6OUEMDsw"
      },
      "outputs": [],
      "source": [
        "dff = df.drop(['Area', 'Zone', 'Time', 'People.Frequency', 'Is.Police_Station',\n",
        "       'Is.Bar', 'Tier', 'Residence.Level'], axis=1, inplace = True)"
      ]
    },
    {
      "cell_type": "code",
      "execution_count": null,
      "metadata": {
        "colab": {
          "base_uri": "https://localhost:8080/"
        },
        "id": "G5KpW-UlOB2M",
        "outputId": "d89d3eb1-40b1-4f62-bfea-4215593fac33"
      },
      "outputs": [
        {
          "name": "stdout",
          "output_type": "stream",
          "text": [
            "      Class  Ramapuram  West Mambalam  Evening  Morning  Night  Low  Medium  \\\n",
            "0      Safe          1              0        0        1      0    0       1   \n",
            "1      Safe          1              0        0        0      0    0       0   \n",
            "2      Safe          1              0        1        0      0    0       1   \n",
            "3      Safe          1              0        0        0      1    1       0   \n",
            "4      Safe          1              0        0        1      0    0       1   \n",
            "..      ...        ...            ...      ...      ...    ...  ...     ...   \n",
            "99   Unsafe          1              0        0        0      1    1       0   \n",
            "100    Safe          0              1        0        1      0    0       0   \n",
            "101    Safe          0              1        0        0      0    0       1   \n",
            "102    Safe          0              1        1        0      0    0       0   \n",
            "103  Unsafe          0              1        0        0      1    1       0   \n",
            "\n",
            "     Yes  Yes  Middle  Outer  Low  Medium  \n",
            "0      1    0       1      0    0       1  \n",
            "1      1    0       1      0    0       1  \n",
            "2      1    0       1      0    0       1  \n",
            "3      1    0       1      0    0       1  \n",
            "4      0    0       0      1    0       1  \n",
            "..   ...  ...     ...    ...  ...     ...  \n",
            "99     0    0       0      0    0       0  \n",
            "100    0    0       0      0    0       0  \n",
            "101    0    0       0      0    0       0  \n",
            "102    0    0       0      0    0       0  \n",
            "103    0    0       0      0    0       0  \n",
            "\n",
            "[104 rows x 14 columns]\n"
          ]
        }
      ],
      "source": [
        "df = pd.concat([df,Area, Time, People, Is_Police_Station,\n",
        "       Is_Bar, Tier, Residence_Level], axis = 1)\n",
        "print (df)"
      ]
    },
    {
      "cell_type": "code",
      "execution_count": null,
      "metadata": {
        "colab": {
          "base_uri": "https://localhost:8080/"
        },
        "id": "3RYglnMpPC5T",
        "outputId": "0cbd0556-d887-41de-9257-f22b8b77abc2"
      },
      "outputs": [
        {
          "name": "stdout",
          "output_type": "stream",
          "text": [
            "Index(['Class', 'Ramapuram', 'West Mambalam', 'Evening', 'Morning', 'Night',\n",
            "       'Low', 'Medium', 'Yes', 'Yes', 'Middle', 'Outer', 'Low', 'Medium'],\n",
            "      dtype='object')\n"
          ]
        }
      ],
      "source": [
        "print(df.columns)"
      ]
    },
    {
      "cell_type": "markdown",
      "metadata": {
        "id": "M0DAf6iyj-7A"
      },
      "source": [
        "Coorelation Matrix"
      ]
    },
    {
      "cell_type": "code",
      "execution_count": null,
      "metadata": {
        "colab": {
          "base_uri": "https://localhost:8080/",
          "height": 686
        },
        "id": "0mGlrc0wfoGW",
        "outputId": "1052ab65-ee87-49e2-e961-446e9f617649"
      },
      "outputs": [
        {
          "data": {
            "text/plain": [
              "<matplotlib.axes._subplots.AxesSubplot at 0x7f662113ae90>"
            ]
          },
          "execution_count": 109,
          "metadata": {},
          "output_type": "execute_result"
        },
        {
          "data": {
            "image/png": "[encoded data removed]",
            "text/plain": [
              "<Figure size 1080x720 with 2 Axes>"
            ]
          },
          "metadata": {},
          "output_type": "display_data"
        }
      ],
      "source": [
        "corr = df.corr()\n",
        "plt.figure(figsize=(15,10))\n",
        "sns.heatmap(corr, annot = True, cmap=\"BuPu\")"
      ]
    },
    {
      "cell_type": "code",
      "execution_count": null,
      "metadata": {
        "id": "qVo-rqrikugi"
      },
      "outputs": [],
      "source": [
        "from sklearn.preprocessing import LabelEncoder\n",
        "le = LabelEncoder()\n",
        "df['Class'] = le.fit_transform(df['Class'])"
      ]
    },
    {
      "cell_type": "code",
      "execution_count": null,
      "metadata": {
        "colab": {
          "base_uri": "https://localhost:8080/"
        },
        "id": "acL19Jqpml4S",
        "outputId": "ca8e1853-7fbd-48f4-d71b-209991d97d6e"
      },
      "outputs": [
        {
          "name": "stdout",
          "output_type": "stream",
          "text": [
            "0      0\n",
            "1      0\n",
            "2      0\n",
            "3      0\n",
            "4      0\n",
            "      ..\n",
            "99     1\n",
            "100    0\n",
            "101    0\n",
            "102    0\n",
            "103    1\n",
            "Name: Class, Length: 104, dtype: int64\n"
          ]
        }
      ],
      "source": [
        "print(df['Class'])"
      ]
    },
    {
      "cell_type": "markdown",
      "metadata": {
        "id": "0_bPb_cunLLn"
      },
      "source": [
        "Train Test Split"
      ]
    },
    {
      "cell_type": "code",
      "execution_count": null,
      "metadata": {
        "id": "wZCmPQ-ZnAWj"
      },
      "outputs": [],
      "source": [
        "# specify input and output attributes\n",
        "X = df.drop(columns=['Class'], axis=1)\n",
        "y = df['Class']"
      ]
    },
    {
      "cell_type": "code",
      "execution_count": null,
      "metadata": {
        "id": "IISBgf_enedZ"
      },
      "outputs": [],
      "source": [
        "from sklearn.model_selection import train_test_split\n",
        "x_train, x_test, y_train, y_test = train_test_split(X, y, test_size=0.25, random_state=42)"
      ]
    },
    {
      "cell_type": "markdown",
      "metadata": {
        "id": "o9LtJBycnvwv"
      },
      "source": [
        "Model Training"
      ]
    },
    {
      "cell_type": "code",
      "execution_count": null,
      "metadata": {
        "id": "rXLrhnL6wnO6"
      },
      "outputs": [],
      "source": [
        "#plot function\n",
        "def plotGraph(y_test,y_pred,regressorName):\n",
        "    if max(y_test) >= max(y_pred):\n",
        "        my_range = int(max(y_test))\n",
        "    else:\n",
        "        my_range = int(max(y_pred))\n",
        "    plt.scatter(range(len(y_test)), y_test, color='blue', label=\"Actual\")\n",
        "    plt.scatter(range(len(y_pred)), y_pred, color='red', label=\"Predicted\")\n",
        "    plt.title(regressorName)\n",
        "    plt.legend(labels = ('Actual','Predicted'),loc='center right')\n",
        "    plt.show()\n",
        "    return"
      ]
    },
    {
      "cell_type": "markdown",
      "metadata": {
        "id": "hFL0b3kDyI5B"
      },
      "source": [
        "Logistic Regression"
      ]
    },
    {
      "cell_type": "code",
      "execution_count": null,
      "metadata": {
        "colab": {
          "base_uri": "https://localhost:8080/"
        },
        "id": "AlsmpPz_tqV4",
        "outputId": "4dec297f-b3f0-4fbb-c2c9-69282e3c6953"
      },
      "outputs": [
        {
          "data": {
            "text/plain": [
              "LogisticRegression()"
            ]
          },
          "execution_count": 115,
          "metadata": {},
          "output_type": "execute_result"
        }
      ],
      "source": [
        "#Implementing Logistic Regression using sklearn\n",
        "modelLogistic = LogisticRegression()\n",
        "modelLogistic.fit(x_train,y_train)"
      ]
    },
    {
      "cell_type": "code",
      "execution_count": null,
      "metadata": {
        "colab": {
          "base_uri": "https://localhost:8080/"
        },
        "id": "G4L33l9Vtx0N",
        "outputId": "61856934-c9a8-4324-e830-6d4c74ca6235"
      },
      "outputs": [
        {
          "name": "stdout",
          "output_type": "stream",
          "text": [
            "The intercept b0=  [-2.3164048]\n",
            "The coefficient b1=  [[-0.01334668 -0.03924188  0.44944228  0.02073832  2.1500961   0.68613548\n",
            "   0.25144006 -1.18267678 -0.01064743 -0.58226307  1.0093893   0.94315708\n",
            "   0.00560865]]\n"
          ]
        }
      ],
      "source": [
        "#print the regression coefficients\n",
        "print(\"The intercept b0= \", modelLogistic.intercept_)\n",
        "print(\"The coefficient b1= \", modelLogistic.coef_)"
      ]
    },
    {
      "cell_type": "code",
      "execution_count": null,
      "metadata": {
        "id": "4aZt5zPDt2IM"
      },
      "outputs": [],
      "source": [
        "#Make prediction for the test data\n",
        "y_pred= modelLogistic.predict(x_test)"
      ]
    },
    {
      "cell_type": "code",
      "execution_count": null,
      "metadata": {
        "colab": {
          "base_uri": "https://localhost:8080/"
        },
        "id": "vLTdArDCuFMT",
        "outputId": "dc9061ba-aa4b-4116-da80-45e6ee0953be"
      },
      "outputs": [
        {
          "name": "stdout",
          "output_type": "stream",
          "text": [
            "Accuracy is 65.38461538461539\n",
            "Cross validation is 79.9047619047619\n"
          ]
        }
      ],
      "source": [
        "print(\"Accuracy is\", modelLogistic.score(x_test, y_test)*100)\n",
        "# cross validation - it is used for better validation of model\n",
        "# eg: cv-5, train-4, test-1\n",
        "score = cross_val_score(modelLogistic, X, y, cv=5)\n",
        "print(\"Cross validation is\",np.mean(score)*100)"
      ]
    },
    {
      "cell_type": "code",
      "execution_count": null,
      "metadata": {
        "colab": {
          "base_uri": "https://localhost:8080/"
        },
        "id": "oNkkJYNJt57R",
        "outputId": "eefc19b3-4214-431b-d4ff-949a6092433e"
      },
      "outputs": [
        {
          "name": "stdout",
          "output_type": "stream",
          "text": [
            "[[14  3]\n",
            " [ 6  3]]\n"
          ]
        }
      ],
      "source": [
        "#Creating confusion matrix\n",
        "ConfusionMatrix = confusion_matrix(y_test, y_pred)\n",
        "print(ConfusionMatrix)"
      ]
    },
    {
      "cell_type": "code",
      "execution_count": null,
      "metadata": {
        "colab": {
          "base_uri": "https://localhost:8080/",
          "height": 286
        },
        "id": "KeGLIueF209J",
        "outputId": "4ab6bd5a-2ca3-434a-ccf1-9bafbb33f173"
      },
      "outputs": [
        {
          "data": {
            "text/plain": [
              "<matplotlib.axes._subplots.AxesSubplot at 0x7f6620a2cf90>"
            ]
          },
          "execution_count": 120,
          "metadata": {},
          "output_type": "execute_result"
        },
        {
          "data": {
            "image/png": "[encoded data removed]",
            "text/plain": [
              "<Figure size 432x288 with 2 Axes>"
            ]
          },
          "metadata": {},
          "output_type": "display_data"
        }
      ],
      "source": [
        "sns.heatmap(ConfusionMatrix, annot=True)"
      ]
    },
    {
      "cell_type": "code",
      "execution_count": null,
      "metadata": {
        "colab": {
          "base_uri": "https://localhost:8080/",
          "height": 281
        },
        "id": "wIhfYcuOw7-p",
        "outputId": "35c8aafc-7a4f-44cb-d1c6-4fa74d35501f"
      },
      "outputs": [
        {
          "data": {
            "image/png": "[encoded data removed]",
            "text/plain": [
              "<Figure size 432x288 with 1 Axes>"
            ]
          },
          "metadata": {},
          "output_type": "display_data"
        }
      ],
      "source": [
        "plotGraph(y_test, y_pred, \"Logistic Regression\")"
      ]
    },
    {
      "cell_type": "markdown",
      "metadata": {
        "id": "jt7K4eaZzGFO"
      },
      "source": [
        "Decision Tree Classifier"
      ]
    },
    {
      "cell_type": "code",
      "execution_count": null,
      "metadata": {
        "id": "jjc7J3lsopu2"
      },
      "outputs": [],
      "source": [
        "from sklearn.tree import DecisionTreeClassifier\n",
        "modelDecision = DecisionTreeClassifier()"
      ]
    },
    {
      "cell_type": "code",
      "execution_count": null,
      "metadata": {
        "colab": {
          "base_uri": "https://localhost:8080/"
        },
        "id": "KEOBx9zBzLCn",
        "outputId": "b7de01c3-35a0-4df3-a4f3-27a691084d1f"
      },
      "outputs": [
        {
          "data": {
            "text/plain": [
              "DecisionTreeClassifier()"
            ]
          },
          "execution_count": 123,
          "metadata": {},
          "output_type": "execute_result"
        }
      ],
      "source": [
        "modelDecision.fit(x_train, y_train)"
      ]
    },
    {
      "cell_type": "code",
      "execution_count": null,
      "metadata": {
        "id": "5sgOnY6Czz8M"
      },
      "outputs": [],
      "source": [
        "#Make prediction for the test data\n",
        "y_pred= modelDecision.predict(x_test)"
      ]
    },
    {
      "cell_type": "code",
      "execution_count": null,
      "metadata": {
        "colab": {
          "base_uri": "https://localhost:8080/"
        },
        "id": "_XxuRjCj0Er8",
        "outputId": "d0b7312c-c98a-4021-fde3-d1cdb5a8489f"
      },
      "outputs": [
        {
          "name": "stdout",
          "output_type": "stream",
          "text": [
            "Accuracy is 84.61538461538461\n",
            "Cross validation is 81.8095238095238\n"
          ]
        }
      ],
      "source": [
        "print(\"Accuracy is\", modelDecision.score(x_test, y_test)*100)\n",
        "# cross validation - it is used for better validation of model\n",
        "# eg: cv-5, train-4, test-1\n",
        "score = cross_val_score(modelDecision, X, y, cv=5)\n",
        "print(\"Cross validation is\",np.mean(score)*100)"
      ]
    },
    {
      "cell_type": "code",
      "execution_count": null,
      "metadata": {
        "colab": {
          "base_uri": "https://localhost:8080/"
        },
        "id": "nDHq9Hu-0IWO",
        "outputId": "a6ae34de-8760-4809-b1cf-9e0db7111220"
      },
      "outputs": [
        {
          "name": "stdout",
          "output_type": "stream",
          "text": [
            "[[16  1]\n",
            " [ 3  6]]\n"
          ]
        }
      ],
      "source": [
        "#Creating confusion matrix\n",
        "ConfusionMatrix = confusion_matrix(y_test, y_pred)\n",
        "print(ConfusionMatrix)"
      ]
    },
    {
      "cell_type": "code",
      "execution_count": null,
      "metadata": {
        "colab": {
          "base_uri": "https://localhost:8080/",
          "height": 286
        },
        "id": "39UuLDpq2oVT",
        "outputId": "4a32151b-67ba-4cf3-affe-be65237ef57c"
      },
      "outputs": [
        {
          "data": {
            "text/plain": [
              "<matplotlib.axes._subplots.AxesSubplot at 0x7f6620947450>"
            ]
          },
          "execution_count": 127,
          "metadata": {},
          "output_type": "execute_result"
        },
        {
          "data": {
            "image/png": "[encoded data removed]",
            "text/plain": [
              "<Figure size 432x288 with 2 Axes>"
            ]
          },
          "metadata": {},
          "output_type": "display_data"
        }
      ],
      "source": [
        "sns.heatmap(ConfusionMatrix, annot=True)"
      ]
    },
    {
      "cell_type": "code",
      "execution_count": null,
      "metadata": {
        "colab": {
          "base_uri": "https://localhost:8080/",
          "height": 281
        },
        "id": "fP_zJM9S0Knm",
        "outputId": "4f70ffe2-5695-45be-ff2b-7836468b9c0e"
      },
      "outputs": [
        {
          "data": {
            "image/png": "[encoded data removed]",
            "text/plain": [
              "<Figure size 432x288 with 1 Axes>"
            ]
          },
          "metadata": {},
          "output_type": "display_data"
        }
      ],
      "source": [
        "plotGraph(y_test, y_pred, \"Decision Tree Classifier\")"
      ]
    },
    {
      "cell_type": "markdown",
      "metadata": {
        "id": "buCG3UJ20byQ"
      },
      "source": [
        "Random Forest Classifier"
      ]
    },
    {
      "cell_type": "code",
      "execution_count": null,
      "metadata": {
        "id": "LwErllWH0gQR"
      },
      "outputs": [],
      "source": [
        "from sklearn.ensemble import RandomForestClassifier\n",
        "modelForest = RandomForestClassifier()"
      ]
    },
    {
      "cell_type": "code",
      "execution_count": null,
      "metadata": {
        "colab": {
          "base_uri": "https://localhost:8080/"
        },
        "id": "ncUD9e370q4N",
        "outputId": "8bed856f-5f31-43a7-95d5-dcd36627afdf"
      },
      "outputs": [
        {
          "data": {
            "text/plain": [
              "RandomForestClassifier()"
            ]
          },
          "execution_count": 130,
          "metadata": {},
          "output_type": "execute_result"
        }
      ],
      "source": [
        "modelForest.fit(x_train, y_train)"
      ]
    },
    {
      "cell_type": "code",
      "execution_count": null,
      "metadata": {
        "id": "33zJV6550yOa"
      },
      "outputs": [],
      "source": [
        "#Make prediction for the test data\n",
        "y_pred= modelForest.predict(x_test)"
      ]
    },
    {
      "cell_type": "code",
      "execution_count": null,
      "metadata": {
        "colab": {
          "base_uri": "https://localhost:8080/"
        },
        "id": "sFFDAzDk00gB",
        "outputId": "2d71bb9b-e3e1-4958-d3cb-312724129f52"
      },
      "outputs": [
        {
          "name": "stdout",
          "output_type": "stream",
          "text": [
            "Accuracy is 84.61538461538461\n",
            "Cross validation is 82.8095238095238\n"
          ]
        }
      ],
      "source": [
        "print(\"Accuracy is\", modelForest.score(x_test, y_test)*100)\n",
        "# cross validation - it is used for better validation of model\n",
        "# eg: cv-5, train-4, test-1\n",
        "score = cross_val_score(modelForest, X, y, cv=5)\n",
        "print(\"Cross validation is\",np.mean(score)*100)"
      ]
    },
    {
      "cell_type": "code",
      "execution_count": null,
      "metadata": {
        "colab": {
          "base_uri": "https://localhost:8080/"
        },
        "id": "IlfIDCu31IKY",
        "outputId": "3a6fd7b9-5abb-40e6-c9dc-f27c80f3b4f5"
      },
      "outputs": [
        {
          "name": "stdout",
          "output_type": "stream",
          "text": [
            "[[16  1]\n",
            " [ 3  6]]\n"
          ]
        }
      ],
      "source": [
        "#Creating confusion matrix\n",
        "ConfusionMatrix = confusion_matrix(y_test, y_pred)\n",
        "print(ConfusionMatrix)"
      ]
    },
    {
      "cell_type": "code",
      "execution_count": null,
      "metadata": {
        "colab": {
          "base_uri": "https://localhost:8080/",
          "height": 286
        },
        "id": "bY0efNp722mX",
        "outputId": "29137026-2f3f-40c8-c9ca-6e9a26adf828"
      },
      "outputs": [
        {
          "data": {
            "text/plain": [
              "<matplotlib.axes._subplots.AxesSubplot at 0x7f6620cd5e50>"
            ]
          },
          "execution_count": 134,
          "metadata": {},
          "output_type": "execute_result"
        },
        {
          "data": {
            "image/png": "[encoded data removed]",
            "text/plain": [
              "<Figure size 432x288 with 2 Axes>"
            ]
          },
          "metadata": {},
          "output_type": "display_data"
        }
      ],
      "source": [
        "sns.heatmap(ConfusionMatrix, annot=True)"
      ]
    },
    {
      "cell_type": "code",
      "execution_count": null,
      "metadata": {
        "colab": {
          "base_uri": "https://localhost:8080/",
          "height": 281
        },
        "id": "99p8e5ny1IGv",
        "outputId": "674537d2-1aab-4351-a906-fbf592339b95"
      },
      "outputs": [
        {
          "data": {
            "image/png": "[encoded data removed]",
            "text/plain": [
              "<Figure size 432x288 with 1 Axes>"
            ]
          },
          "metadata": {},
          "output_type": "display_data"
        }
      ],
      "source": [
        "plotGraph(y_test, y_pred, \" Random Forest Classifier\")"
      ]
    },
    {
      "cell_type": "markdown",
      "metadata": {
        "id": "hyEMK67W1Qvs"
      },
      "source": [
        "Extra Trees Classifier"
      ]
    },
    {
      "cell_type": "code",
      "execution_count": null,
      "metadata": {
        "id": "ctGpypOs1H94"
      },
      "outputs": [],
      "source": [
        "from sklearn.ensemble import ExtraTreesClassifier\n",
        "modelExtra = ExtraTreesClassifier()"
      ]
    },
    {
      "cell_type": "code",
      "execution_count": null,
      "metadata": {
        "colab": {
          "base_uri": "https://localhost:8080/"
        },
        "id": "1KSEgVfp1H6Z",
        "outputId": "daf953cd-6ad7-4211-df97-007e725a5f58"
      },
      "outputs": [
        {
          "data": {
            "text/plain": [
              "ExtraTreesClassifier()"
            ]
          },
          "execution_count": 137,
          "metadata": {},
          "output_type": "execute_result"
        }
      ],
      "source": [
        "modelExtra.fit(x_train, y_train)"
      ]
    },
    {
      "cell_type": "code",
      "execution_count": null,
      "metadata": {
        "id": "a6jL-Mbx13VS"
      },
      "outputs": [],
      "source": [
        "#Make prediction for the test data\n",
        "y_pred= modelExtra.predict(x_test)"
      ]
    },
    {
      "cell_type": "code",
      "execution_count": null,
      "metadata": {
        "colab": {
          "base_uri": "https://localhost:8080/"
        },
        "id": "eyH1ahVu13Rr",
        "outputId": "539054c5-f872-45b7-9ec9-d5cfd1263d04"
      },
      "outputs": [
        {
          "name": "stdout",
          "output_type": "stream",
          "text": [
            "Accuracy is 80.76923076923077\n",
            "Cross validation is 82.76190476190477\n"
          ]
        }
      ],
      "source": [
        "print(\"Accuracy is\", modelExtra.score(x_test, y_test)*100)\n",
        "# cross validation - it is used for better validation of model\n",
        "# eg: cv-5, train-4, test-1\n",
        "score = cross_val_score(modelForest, X, y, cv=5)\n",
        "print(\"Cross validation is\",np.mean(score)*100)"
      ]
    },
    {
      "cell_type": "code",
      "execution_count": null,
      "metadata": {
        "colab": {
          "base_uri": "https://localhost:8080/"
        },
        "id": "RFiNwQbG13PO",
        "outputId": "6b77119d-440e-49f7-a45a-30b018ab5da4"
      },
      "outputs": [
        {
          "name": "stdout",
          "output_type": "stream",
          "text": [
            "[[15  2]\n",
            " [ 3  6]]\n"
          ]
        }
      ],
      "source": [
        "#Creating confusion matrix\n",
        "ConfusionMatrix = confusion_matrix(y_test, y_pred)\n",
        "print(ConfusionMatrix)"
      ]
    },
    {
      "cell_type": "code",
      "execution_count": null,
      "metadata": {
        "colab": {
          "base_uri": "https://localhost:8080/",
          "height": 282
        },
        "id": "WFRV1Vk224gQ",
        "outputId": "48feb112-f563-49e6-8b63-027d3579f88b"
      },
      "outputs": [
        {
          "data": {
            "text/plain": [
              "<matplotlib.axes._subplots.AxesSubplot at 0x7f6620d98090>"
            ]
          },
          "execution_count": 141,
          "metadata": {},
          "output_type": "execute_result"
        },
        {
          "data": {
            "image/png": "[encoded data removed]",
            "text/plain": [
              "<Figure size 432x288 with 2 Axes>"
            ]
          },
          "metadata": {},
          "output_type": "display_data"
        }
      ],
      "source": [
        "sns.heatmap(ConfusionMatrix, annot=True)"
      ]
    },
    {
      "cell_type": "code",
      "execution_count": null,
      "metadata": {
        "colab": {
          "base_uri": "https://localhost:8080/",
          "height": 281
        },
        "id": "u-qtNcqy1H30",
        "outputId": "28b49038-37be-46d0-b401-c36561d8bea1"
      },
      "outputs": [
        {
          "data": {
            "image/png": "[encoded data removed]",
            "text/plain": [
              "<Figure size 432x288 with 1 Axes>"
            ]
          },
          "metadata": {},
          "output_type": "display_data"
        }
      ],
      "source": [
        "plotGraph(y_test, y_pred, \" Extra Trees Classifier\")"
      ]
    },
    {
      "cell_type": "markdown",
      "metadata": {
        "id": "nHIBe8-2pkgX"
      },
      "source": [
        "Hyperparameter tuning"
      ]
    },
    {
      "cell_type": "code",
      "execution_count": null,
      "metadata": {
        "colab": {
          "base_uri": "https://localhost:8080/"
        },
        "id": "DzJu_5Z5phgl",
        "outputId": "46ac8618-0bc9-46b0-90ba-fa33bdfa3134"
      },
      "outputs": [
        {
          "name": "stdout",
          "output_type": "stream",
          "text": [
            "Accuracy is 69.23076923076923\n",
            "Cross validation is 74.04761904761904\n"
          ]
        }
      ],
      "source": [
        "modelForest = RandomForestClassifier(n_estimators=100, min_samples_split=25, max_depth=7, max_features=1)\n",
        "modelForest.fit(x_train, y_train)\n",
        "#Make prediction for the test data\n",
        "y_pred= modelForest.predict(x_test)\n",
        "print(\"Accuracy is\", modelForest.score(x_test, y_test)*100)\n",
        "# cross validation - it is used for better validation of model\n",
        "# eg: cv-5, train-4, test-1\n",
        "score = cross_val_score(modelForest, X, y, cv=5)\n",
        "print(\"Cross validation is\",np.mean(score)*100)"
      ]
    }
  ],
  "metadata": {
    "colab": {
      "provenance": []
    },
    "kernelspec": {
      "display_name": "Python 3",
      "name": "python3"
    },
    "language_info": {
      "name": "python"
    }
  },
  "nbformat": 4,
  "nbformat_minor": 0
}